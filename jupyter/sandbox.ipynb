{
 "cells": [
  {
   "cell_type": "markdown",
   "metadata": {},
   "source": [
    "## Magics sandbox"
   ]
  },
  {
   "cell_type": "code",
   "execution_count": 16,
   "metadata": {},
   "outputs": [
    {
     "name": "stdout",
     "output_type": "stream",
     "text": [
      "The marklogic_ext extension is already loaded. To reload it, use:\n",
      "  %reload_ext marklogic_ext\n"
     ]
    }
   ],
   "source": [
    "%load_ext marklogic_ext"
   ]
  },
  {
   "cell_type": "code",
   "execution_count": 17,
   "metadata": {},
   "outputs": [
    {
     "name": "stdout",
     "output_type": "stream",
     "text": [
      "Connection to http://ml:8010 OK\n"
     ]
    }
   ],
   "source": [
    "%marklogic_connect http://admin:admin@ml:8010"
   ]
  },
  {
   "cell_type": "code",
   "execution_count": 18,
   "metadata": {},
   "outputs": [
    {
     "data": {
      "text/plain": [
       "[{'foo': {'@f': 'a', 'bar': ['1', '2']}}, 1, 1.0, -5, -5]"
      ]
     },
     "execution_count": 18,
     "metadata": {},
     "output_type": "execute_result"
    }
   ],
   "source": [
    "%%marklogic_xqy\n",
    "\n",
    "(<foo f=\"a\"><bar>1</bar><bar>2</bar></foo>, 1, 1.0, -5, -5.0) (: return a sequence :)"
   ]
  },
  {
   "cell_type": "code",
   "execution_count": 19,
   "metadata": {},
   "outputs": [
    {
     "data": {
      "text/plain": [
       "'some string'"
      ]
     },
     "execution_count": 19,
     "metadata": {},
     "output_type": "execute_result"
    }
   ],
   "source": [
    "%%marklogic_xqy\n",
    "\n",
    "let $x := \"some string\"\n",
    "return $x"
   ]
  },
  {
   "cell_type": "code",
   "execution_count": 20,
   "metadata": {},
   "outputs": [
    {
     "data": {
      "text/plain": [
       "{'foo': 'bar', 'foobar': 1, 'barfoo': -5.3}"
      ]
     },
     "execution_count": 20,
     "metadata": {},
     "output_type": "execute_result"
    }
   ],
   "source": [
    "%%marklogic_sjs\n",
    "\n",
    "const x = {\n",
    "    foo: \"bar\",\n",
    "    foobar: 1,\n",
    "    barfoo: -5.3\n",
    "};\n",
    "x;"
   ]
  },
  {
   "cell_type": "code",
   "execution_count": 21,
   "metadata": {},
   "outputs": [
    {
     "data": {
      "text/plain": [
       "[1, 2, 3, 4, 5]"
      ]
     },
     "execution_count": 21,
     "metadata": {},
     "output_type": "execute_result"
    }
   ],
   "source": [
    "%%marklogic_sjs\n",
    "\n",
    "const x = [1, 2, 3, 4, 5];\n",
    "x;"
   ]
  },
  {
   "cell_type": "code",
   "execution_count": 22,
   "metadata": {},
   "outputs": [
    {
     "data": {
      "text/html": [
       "<div>\n",
       "<style scoped>\n",
       "    .dataframe tbody tr th:only-of-type {\n",
       "        vertical-align: middle;\n",
       "    }\n",
       "\n",
       "    .dataframe tbody tr th {\n",
       "        vertical-align: top;\n",
       "    }\n",
       "\n",
       "    .dataframe thead th {\n",
       "        text-align: right;\n",
       "    }\n",
       "</style>\n",
       "<table border=\"1\" class=\"dataframe\">\n",
       "  <thead>\n",
       "    <tr style=\"text-align: right;\">\n",
       "      <th></th>\n",
       "      <th>name</th>\n",
       "      <th>age</th>\n",
       "    </tr>\n",
       "  </thead>\n",
       "  <tbody>\n",
       "    <tr>\n",
       "      <th>0</th>\n",
       "      <td>John</td>\n",
       "      <td>20</td>\n",
       "    </tr>\n",
       "    <tr>\n",
       "      <th>1</th>\n",
       "      <td>Jill</td>\n",
       "      <td>25</td>\n",
       "    </tr>\n",
       "    <tr>\n",
       "      <th>2</th>\n",
       "      <td>Jack</td>\n",
       "      <td>34</td>\n",
       "    </tr>\n",
       "  </tbody>\n",
       "</table>\n",
       "</div>"
      ],
      "text/plain": [
       "   name  age\n",
       "0  John   20\n",
       "1  Jill   25\n",
       "2  Jack   34"
      ]
     },
     "execution_count": 22,
     "metadata": {},
     "output_type": "execute_result"
    }
   ],
   "source": [
    "%%marklogic_sjs -dataframe\n",
    "\n",
    "const doc1 = { name: \"John\", age: 20 };\n",
    "const doc2 = { name: \"Jill\", age: 25 };\n",
    "const doc3 = { name: \"Jack\", age: 34 };\n",
    "const docs = [ doc1, doc2, doc3 ];\n",
    "\n",
    "docs;"
   ]
  },
  {
   "cell_type": "code",
   "execution_count": 23,
   "metadata": {},
   "outputs": [
    {
     "data": {
      "text/html": [
       "<div>\n",
       "<style scoped>\n",
       "    .dataframe tbody tr th:only-of-type {\n",
       "        vertical-align: middle;\n",
       "    }\n",
       "\n",
       "    .dataframe tbody tr th {\n",
       "        vertical-align: top;\n",
       "    }\n",
       "\n",
       "    .dataframe thead th {\n",
       "        text-align: right;\n",
       "    }\n",
       "</style>\n",
       "<table border=\"1\" class=\"dataframe\">\n",
       "  <thead>\n",
       "    <tr style=\"text-align: right;\">\n",
       "      <th></th>\n",
       "      <th>mock.data.id</th>\n",
       "      <th>mock.data.name</th>\n",
       "      <th>mock.data.gender</th>\n",
       "      <th>mock.data.isActive</th>\n",
       "      <th>mock.data.supportCalls</th>\n",
       "      <th>mock.data.policyAmount</th>\n",
       "      <th>mock.data.dateCreated</th>\n",
       "      <th>mock.data.dateModified</th>\n",
       "      <th>mock.data.notes</th>\n",
       "      <th>mock.data.paySchedule</th>\n",
       "    </tr>\n",
       "  </thead>\n",
       "  <tbody>\n",
       "    <tr>\n",
       "      <th>0</th>\n",
       "      <td>952</td>\n",
       "      <td>Abbie Koeppke</td>\n",
       "      <td>Female</td>\n",
       "      <td>False</td>\n",
       "      <td>5</td>\n",
       "      <td>930845.09</td>\n",
       "      <td>1984-10-07</td>\n",
       "      <td>2020-04-16T17:02:07Z</td>\n",
       "      <td>Ut at dolor quis odio consequat varius. Intege...</td>\n",
       "      <td>Annual</td>\n",
       "    </tr>\n",
       "    <tr>\n",
       "      <th>1</th>\n",
       "      <td>766</td>\n",
       "      <td>Ninnette Kunzelmann</td>\n",
       "      <td>Female</td>\n",
       "      <td>True</td>\n",
       "      <td>1</td>\n",
       "      <td>628907.56</td>\n",
       "      <td>1999-11-12</td>\n",
       "      <td>2020-05-06T00:23:16Z</td>\n",
       "      <td>Donec dapibus. Duis at velit eu est congue ele...</td>\n",
       "      <td>Annual</td>\n",
       "    </tr>\n",
       "    <tr>\n",
       "      <th>2</th>\n",
       "      <td>742</td>\n",
       "      <td>Jen Vasyatkin</td>\n",
       "      <td>Female</td>\n",
       "      <td>True</td>\n",
       "      <td>6</td>\n",
       "      <td>802392.97</td>\n",
       "      <td>2000-12-14</td>\n",
       "      <td>2020-03-28T17:23:52Z</td>\n",
       "      <td>Nam nulla. Integer pede justo, lacinia eget, t...</td>\n",
       "      <td>Annual</td>\n",
       "    </tr>\n",
       "    <tr>\n",
       "      <th>3</th>\n",
       "      <td>947</td>\n",
       "      <td>Farley McMearty</td>\n",
       "      <td>Male</td>\n",
       "      <td>True</td>\n",
       "      <td>3</td>\n",
       "      <td>986417.14</td>\n",
       "      <td>1996-06-08</td>\n",
       "      <td>2020-03-23T13:19:57Z</td>\n",
       "      <td>Nullam varius.</td>\n",
       "      <td>Annual</td>\n",
       "    </tr>\n",
       "    <tr>\n",
       "      <th>4</th>\n",
       "      <td>255</td>\n",
       "      <td>Farlay Caudrelier</td>\n",
       "      <td>Male</td>\n",
       "      <td>False</td>\n",
       "      <td>3</td>\n",
       "      <td>56525.24</td>\n",
       "      <td>1981-12-19</td>\n",
       "      <td>2020-05-21T18:56:59Z</td>\n",
       "      <td>Nam nulla. Integer pede justo, lacinia eget, t...</td>\n",
       "      <td>Annual</td>\n",
       "    </tr>\n",
       "    <tr>\n",
       "      <th>5</th>\n",
       "      <td>17</td>\n",
       "      <td>Shaina Sympson</td>\n",
       "      <td>Female</td>\n",
       "      <td>True</td>\n",
       "      <td>9</td>\n",
       "      <td>838907.00</td>\n",
       "      <td>2007-12-17</td>\n",
       "      <td>2020-05-10T23:22:54Z</td>\n",
       "      <td>Nulla facilisi. Cras non velit nec nisi vulput...</td>\n",
       "      <td>Quarterly</td>\n",
       "    </tr>\n",
       "    <tr>\n",
       "      <th>6</th>\n",
       "      <td>723</td>\n",
       "      <td>Chickie Turfitt</td>\n",
       "      <td>Male</td>\n",
       "      <td>True</td>\n",
       "      <td>10</td>\n",
       "      <td>838172.27</td>\n",
       "      <td>1996-02-09</td>\n",
       "      <td>2020-04-21T08:32:55Z</td>\n",
       "      <td>Mauris ullamcorper purus sit amet nulla. Quisq...</td>\n",
       "      <td>Annual</td>\n",
       "    </tr>\n",
       "    <tr>\n",
       "      <th>7</th>\n",
       "      <td>375</td>\n",
       "      <td>Althea Pretty</td>\n",
       "      <td>Female</td>\n",
       "      <td>False</td>\n",
       "      <td>4</td>\n",
       "      <td>703632.02</td>\n",
       "      <td>2006-05-14</td>\n",
       "      <td>2020-03-05T00:47:14Z</td>\n",
       "      <td>Maecenas pulvinar lobortis est. Phasellus sit ...</td>\n",
       "      <td>Quarterly</td>\n",
       "    </tr>\n",
       "    <tr>\n",
       "      <th>8</th>\n",
       "      <td>986</td>\n",
       "      <td>Abdel Kopfer</td>\n",
       "      <td>Male</td>\n",
       "      <td>True</td>\n",
       "      <td>7</td>\n",
       "      <td>9033.64</td>\n",
       "      <td>2004-08-27</td>\n",
       "      <td>2020-01-25T01:53:42Z</td>\n",
       "      <td>Aliquam augue quam, sollicitudin vitae, consec...</td>\n",
       "      <td>Quarterly</td>\n",
       "    </tr>\n",
       "    <tr>\n",
       "      <th>9</th>\n",
       "      <td>183</td>\n",
       "      <td>Simmonds Moffatt</td>\n",
       "      <td>Male</td>\n",
       "      <td>False</td>\n",
       "      <td>3</td>\n",
       "      <td>100294.50</td>\n",
       "      <td>1983-01-12</td>\n",
       "      <td>2020-04-19T17:12:39Z</td>\n",
       "      <td>Aenean sit amet justo. Morbi ut odio.</td>\n",
       "      <td>Quarterly</td>\n",
       "    </tr>\n",
       "  </tbody>\n",
       "</table>\n",
       "</div>"
      ],
      "text/plain": [
       "   mock.data.id       mock.data.name mock.data.gender  mock.data.isActive  \\\n",
       "0           952        Abbie Koeppke           Female               False   \n",
       "1           766  Ninnette Kunzelmann           Female                True   \n",
       "2           742        Jen Vasyatkin           Female                True   \n",
       "3           947      Farley McMearty             Male                True   \n",
       "4           255    Farlay Caudrelier             Male               False   \n",
       "5            17       Shaina Sympson           Female                True   \n",
       "6           723      Chickie Turfitt             Male                True   \n",
       "7           375        Althea Pretty           Female               False   \n",
       "8           986         Abdel Kopfer             Male                True   \n",
       "9           183     Simmonds Moffatt             Male               False   \n",
       "\n",
       "   mock.data.supportCalls  mock.data.policyAmount mock.data.dateCreated  \\\n",
       "0                       5               930845.09            1984-10-07   \n",
       "1                       1               628907.56            1999-11-12   \n",
       "2                       6               802392.97            2000-12-14   \n",
       "3                       3               986417.14            1996-06-08   \n",
       "4                       3                56525.24            1981-12-19   \n",
       "5                       9               838907.00            2007-12-17   \n",
       "6                      10               838172.27            1996-02-09   \n",
       "7                       4               703632.02            2006-05-14   \n",
       "8                       7                 9033.64            2004-08-27   \n",
       "9                       3               100294.50            1983-01-12   \n",
       "\n",
       "  mock.data.dateModified                                    mock.data.notes  \\\n",
       "0   2020-04-16T17:02:07Z  Ut at dolor quis odio consequat varius. Intege...   \n",
       "1   2020-05-06T00:23:16Z  Donec dapibus. Duis at velit eu est congue ele...   \n",
       "2   2020-03-28T17:23:52Z  Nam nulla. Integer pede justo, lacinia eget, t...   \n",
       "3   2020-03-23T13:19:57Z                                     Nullam varius.   \n",
       "4   2020-05-21T18:56:59Z  Nam nulla. Integer pede justo, lacinia eget, t...   \n",
       "5   2020-05-10T23:22:54Z  Nulla facilisi. Cras non velit nec nisi vulput...   \n",
       "6   2020-04-21T08:32:55Z  Mauris ullamcorper purus sit amet nulla. Quisq...   \n",
       "7   2020-03-05T00:47:14Z  Maecenas pulvinar lobortis est. Phasellus sit ...   \n",
       "8   2020-01-25T01:53:42Z  Aliquam augue quam, sollicitudin vitae, consec...   \n",
       "9   2020-04-19T17:12:39Z              Aenean sit amet justo. Morbi ut odio.   \n",
       "\n",
       "  mock.data.paySchedule  \n",
       "0                Annual  \n",
       "1                Annual  \n",
       "2                Annual  \n",
       "3                Annual  \n",
       "4                Annual  \n",
       "5             Quarterly  \n",
       "6                Annual  \n",
       "7             Quarterly  \n",
       "8             Quarterly  \n",
       "9             Quarterly  "
      ]
     },
     "execution_count": 23,
     "metadata": {},
     "output_type": "execute_result"
    }
   ],
   "source": [
    "%%marklogic_sql\n",
    "SELECT * FROM mock.data LIMIT 10"
   ]
  },
  {
   "cell_type": "code",
   "execution_count": 25,
   "metadata": {},
   "outputs": [
    {
     "data": {
      "text/plain": [
       "['{\"mock.data.id\":3, \"mock.data.name\":\"Norma Pauls\", \"mock.data.gender\":\"Female\", \"mock.data.isActive\":false, \"mock.data.supportCalls\":3, \"mock.data.policyAmount\":599120.47, \"mock.data.dateCreated\":\"2004-06-13\", \"mock.data.dateModified\":\"2020-05-19T19:55:59Z\", \"mock.data.notes\":\"In congue. Etiam justo.\", \"mock.data.paySchedule\":\"Annual\"}',\n",
       " '{\"mock.data.id\":4, \"mock.data.name\":\"Gusti Giurio\", \"mock.data.gender\":\"Female\", \"mock.data.isActive\":true, \"mock.data.supportCalls\":4, \"mock.data.policyAmount\":61554.52, \"mock.data.dateCreated\":\"2004-07-21\", \"mock.data.dateModified\":\"2020-03-04T05:23:34Z\", \"mock.data.notes\":\"Integer tincidunt ante vel ipsum.\", \"mock.data.paySchedule\":\"Monthly\"}',\n",
       " '{\"mock.data.id\":5, \"mock.data.name\":\"Shannon Leguay\", \"mock.data.gender\":\"Female\", \"mock.data.isActive\":false, \"mock.data.supportCalls\":6, \"mock.data.policyAmount\":50021.65, \"mock.data.dateCreated\":\"2011-11-02\", \"mock.data.dateModified\":\"2020-05-15T11:30:48Z\", \"mock.data.notes\":\"Proin risus.\", \"mock.data.paySchedule\":\"Annual\"}',\n",
       " '{\"mock.data.id\":7, \"mock.data.name\":\"Janean Govenlock\", \"mock.data.gender\":\"Female\", \"mock.data.isActive\":false, \"mock.data.supportCalls\":1, \"mock.data.policyAmount\":319661.58, \"mock.data.dateCreated\":\"2015-08-08\", \"mock.data.dateModified\":\"2020-01-28T16:03:04Z\", \"mock.data.notes\":\"Donec ut mauris eget massa tempor convallis. Nulla neque libero, convallis eget, eleifend luctus, ultricies eu, nibh.\", \"mock.data.paySchedule\":\"Annual\"}',\n",
       " '{\"mock.data.id\":9, \"mock.data.name\":\"Christina Klimentyev\", \"mock.data.gender\":\"Female\", \"mock.data.isActive\":true, \"mock.data.supportCalls\":8, \"mock.data.policyAmount\":278992.1, \"mock.data.dateCreated\":\"2017-12-09\", \"mock.data.dateModified\":\"2020-04-24T03:54:54Z\", \"mock.data.notes\":\"Aenean fermentum. Donec ut mauris eget massa tempor convallis. Nulla neque libero, convallis eget, eleifend luctus, ultricies eu, nibh.\", \"mock.data.paySchedule\":\"Quarterly\"}',\n",
       " '{\"mock.data.id\":13, \"mock.data.name\":\"Sarajane Joutapaitis\", \"mock.data.gender\":\"Female\", \"mock.data.isActive\":true, \"mock.data.supportCalls\":5, \"mock.data.policyAmount\":732079.59, \"mock.data.dateCreated\":\"2012-01-02\", \"mock.data.dateModified\":\"2020-01-14T22:41:39Z\", \"mock.data.notes\":\"Vestibulum ante ipsum primis in faucibus orci luctus et ultrices posuere cubilia Curae; Duis faucibus accumsan odio. Curabitur convallis.\", \"mock.data.paySchedule\":\"Annual\"}',\n",
       " '{\"mock.data.id\":16, \"mock.data.name\":\"Vere Snodin\", \"mock.data.gender\":\"Female\", \"mock.data.isActive\":false, \"mock.data.supportCalls\":7, \"mock.data.policyAmount\":814488.56, \"mock.data.dateCreated\":\"2009-10-17\", \"mock.data.dateModified\":\"2020-01-20T03:33:50Z\", \"mock.data.notes\":\"Aliquam non mauris. Morbi non lectus. Aliquam sit amet diam in magna bibendum imperdiet.\", \"mock.data.paySchedule\":\"Monthly\"}',\n",
       " '{\"mock.data.id\":17, \"mock.data.name\":\"Shaina Sympson\", \"mock.data.gender\":\"Female\", \"mock.data.isActive\":true, \"mock.data.supportCalls\":9, \"mock.data.policyAmount\":838907, \"mock.data.dateCreated\":\"2007-12-17\", \"mock.data.dateModified\":\"2020-05-10T23:22:54Z\", \"mock.data.notes\":\"Nulla facilisi. Cras non velit nec nisi vulputate nonummy.\", \"mock.data.paySchedule\":\"Quarterly\"}',\n",
       " '{\"mock.data.id\":19, \"mock.data.name\":\"Tommie Spurman\", \"mock.data.gender\":\"Female\", \"mock.data.isActive\":false, \"mock.data.supportCalls\":5, \"mock.data.policyAmount\":442984.64, \"mock.data.dateCreated\":\"1986-08-29\", \"mock.data.dateModified\":\"2020-04-24T15:35:03Z\", \"mock.data.notes\":\"Donec semper sapien a libero. Nam dui. Proin leo odio, porttitor id, consequat in, consequat ut, nulla.\", \"mock.data.paySchedule\":\"Annual\"}',\n",
       " '{\"mock.data.id\":22, \"mock.data.name\":\"Ellie Dearlove\", \"mock.data.gender\":\"Female\", \"mock.data.isActive\":true, \"mock.data.supportCalls\":5, \"mock.data.policyAmount\":582204.19, \"mock.data.dateCreated\":\"2002-04-04\", \"mock.data.dateModified\":\"2020-05-21T17:51:53Z\", \"mock.data.notes\":\"Donec vitae nisi.\", \"mock.data.paySchedule\":\"Quarterly\"}']"
      ]
     },
     "execution_count": 25,
     "metadata": {},
     "output_type": "execute_result"
    }
   ],
   "source": [
    "%%marklogic_sql -raw\n",
    "SELECT * \n",
    "FROM mock.data \n",
    "WHERE\n",
    "mock.data.gender = 'Female'\n",
    "ORDER BY mock.data.id\n",
    "LIMIT 10"
   ]
  },
  {
   "cell_type": "code",
   "execution_count": null,
   "metadata": {},
   "outputs": [],
   "source": []
  },
  {
   "cell_type": "code",
   "execution_count": null,
   "metadata": {},
   "outputs": [],
   "source": []
  }
 ],
 "metadata": {
  "kernelspec": {
   "display_name": "Python 3",
   "language": "python",
   "name": "python3"
  },
  "language_info": {
   "codemirror_mode": {
    "name": "ipython",
    "version": 3
   },
   "file_extension": ".py",
   "mimetype": "text/x-python",
   "name": "python",
   "nbconvert_exporter": "python",
   "pygments_lexer": "ipython3",
   "version": "3.7.6"
  }
 },
 "nbformat": 4,
 "nbformat_minor": 4
}
