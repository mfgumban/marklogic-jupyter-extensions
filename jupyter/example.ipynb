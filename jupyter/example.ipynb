{
 "cells": [
  {
   "cell_type": "markdown",
   "metadata": {},
   "source": [
    "# Example Usage\n",
    "\n",
    "This notebook shows how the extension can be used as part of a model training workflow.  To run this notebook, you must have:\n",
    "\n",
    "- MarkLogic running in a Docker container `ml`.\n",
    "- Ran `./gradlew mlDeploy` to configure MarkLogic.\n",
    "- Ran `./gradlew loadSampleData` to load example data.\n",
    "\n",
    "First, we need to load the extension using `%load_ext` and use `%marklogic_connect` to tell it how to connect to MarkLogic."
   ]
  },
  {
   "cell_type": "code",
   "execution_count": 1,
   "metadata": {
    "scrolled": true
   },
   "outputs": [
    {
     "name": "stdout",
     "output_type": "stream",
     "text": [
      "Connection to http://ml:8010 OK\n"
     ]
    }
   ],
   "source": [
    "%load_ext marklogic_ext\n",
    "%marklogic_connect http://admin:admin@ml:8010"
   ]
  },
  {
   "cell_type": "markdown",
   "metadata": {},
   "source": [
    "We can inspect the database by running some server-side Javascript code.  Placing `%%marklogic_sjs` indicates that the contents of the cell should be interpreted as Javascript and evaluated on the server.  With the `-dataframe` option, the extension will try to coerce the output into a `pandas.DataFrame`; if it can't, an error will be raised."
   ]
  },
  {
   "cell_type": "code",
   "execution_count": 2,
   "metadata": {},
   "outputs": [
    {
     "data": {
      "text/html": [
       "<div>\n",
       "<style scoped>\n",
       "    .dataframe tbody tr th:only-of-type {\n",
       "        vertical-align: middle;\n",
       "    }\n",
       "\n",
       "    .dataframe tbody tr th {\n",
       "        vertical-align: top;\n",
       "    }\n",
       "\n",
       "    .dataframe thead th {\n",
       "        text-align: right;\n",
       "    }\n",
       "</style>\n",
       "<table border=\"1\" class=\"dataframe\">\n",
       "  <thead>\n",
       "    <tr style=\"text-align: right;\">\n",
       "      <th></th>\n",
       "      <th>No</th>\n",
       "      <th>X1 transaction date</th>\n",
       "      <th>X2 house age</th>\n",
       "      <th>X3 distance to the nearest MRT station</th>\n",
       "      <th>X4 number of convenience stores</th>\n",
       "      <th>X5 latitude</th>\n",
       "      <th>X6 longitude</th>\n",
       "      <th>Y house price of unit area</th>\n",
       "    </tr>\n",
       "  </thead>\n",
       "  <tbody>\n",
       "    <tr>\n",
       "      <th>0</th>\n",
       "      <td>178</td>\n",
       "      <td>2013.083</td>\n",
       "      <td>33</td>\n",
       "      <td>181.0766</td>\n",
       "      <td>9</td>\n",
       "      <td>24.97697</td>\n",
       "      <td>121.54262</td>\n",
       "      <td>42</td>\n",
       "    </tr>\n",
       "    <tr>\n",
       "      <th>1</th>\n",
       "      <td>287</td>\n",
       "      <td>2012.917</td>\n",
       "      <td>5.9</td>\n",
       "      <td>90.45606</td>\n",
       "      <td>9</td>\n",
       "      <td>24.97433</td>\n",
       "      <td>121.5431</td>\n",
       "      <td>56.3</td>\n",
       "    </tr>\n",
       "    <tr>\n",
       "      <th>2</th>\n",
       "      <td>396</td>\n",
       "      <td>2012.917</td>\n",
       "      <td>21.2</td>\n",
       "      <td>512.5487</td>\n",
       "      <td>4</td>\n",
       "      <td>24.974</td>\n",
       "      <td>121.53842</td>\n",
       "      <td>42.5</td>\n",
       "    </tr>\n",
       "    <tr>\n",
       "      <th>3</th>\n",
       "      <td>135</td>\n",
       "      <td>2012.667</td>\n",
       "      <td>33.4</td>\n",
       "      <td>186.9686</td>\n",
       "      <td>6</td>\n",
       "      <td>24.96604</td>\n",
       "      <td>121.54211</td>\n",
       "      <td>42.2</td>\n",
       "    </tr>\n",
       "    <tr>\n",
       "      <th>4</th>\n",
       "      <td>244</td>\n",
       "      <td>2013.417</td>\n",
       "      <td>32.8</td>\n",
       "      <td>204.1705</td>\n",
       "      <td>8</td>\n",
       "      <td>24.98236</td>\n",
       "      <td>121.53923</td>\n",
       "      <td>48.2</td>\n",
       "    </tr>\n",
       "    <tr>\n",
       "      <th>...</th>\n",
       "      <td>...</td>\n",
       "      <td>...</td>\n",
       "      <td>...</td>\n",
       "      <td>...</td>\n",
       "      <td>...</td>\n",
       "      <td>...</td>\n",
       "      <td>...</td>\n",
       "      <td>...</td>\n",
       "    </tr>\n",
       "    <tr>\n",
       "      <th>409</th>\n",
       "      <td>12</td>\n",
       "      <td>2013.333</td>\n",
       "      <td>6.3</td>\n",
       "      <td>90.45606</td>\n",
       "      <td>9</td>\n",
       "      <td>24.97433</td>\n",
       "      <td>121.5431</td>\n",
       "      <td>58.1</td>\n",
       "    </tr>\n",
       "    <tr>\n",
       "      <th>410</th>\n",
       "      <td>192</td>\n",
       "      <td>2013.167</td>\n",
       "      <td>13.2</td>\n",
       "      <td>750.0704</td>\n",
       "      <td>2</td>\n",
       "      <td>24.97371</td>\n",
       "      <td>121.54951</td>\n",
       "      <td>37.8</td>\n",
       "    </tr>\n",
       "    <tr>\n",
       "      <th>411</th>\n",
       "      <td>80</td>\n",
       "      <td>2013.000</td>\n",
       "      <td>18</td>\n",
       "      <td>1414.837</td>\n",
       "      <td>1</td>\n",
       "      <td>24.95182</td>\n",
       "      <td>121.54887</td>\n",
       "      <td>26.5</td>\n",
       "    </tr>\n",
       "    <tr>\n",
       "      <th>412</th>\n",
       "      <td>219</td>\n",
       "      <td>2013.417</td>\n",
       "      <td>13.6</td>\n",
       "      <td>492.2313</td>\n",
       "      <td>5</td>\n",
       "      <td>24.96515</td>\n",
       "      <td>121.53737</td>\n",
       "      <td>43.8</td>\n",
       "    </tr>\n",
       "    <tr>\n",
       "      <th>413</th>\n",
       "      <td>328</td>\n",
       "      <td>2013.417</td>\n",
       "      <td>3.5</td>\n",
       "      <td>757.3377</td>\n",
       "      <td>3</td>\n",
       "      <td>24.97538</td>\n",
       "      <td>121.54971</td>\n",
       "      <td>36.7</td>\n",
       "    </tr>\n",
       "  </tbody>\n",
       "</table>\n",
       "<p>414 rows × 8 columns</p>\n",
       "</div>"
      ],
      "text/plain": [
       "      No X1 transaction date X2 house age  \\\n",
       "0    178            2013.083           33   \n",
       "1    287            2012.917          5.9   \n",
       "2    396            2012.917         21.2   \n",
       "3    135            2012.667         33.4   \n",
       "4    244            2013.417         32.8   \n",
       "..   ...                 ...          ...   \n",
       "409   12            2013.333          6.3   \n",
       "410  192            2013.167         13.2   \n",
       "411   80            2013.000           18   \n",
       "412  219            2013.417         13.6   \n",
       "413  328            2013.417          3.5   \n",
       "\n",
       "    X3 distance to the nearest MRT station X4 number of convenience stores  \\\n",
       "0                                 181.0766                               9   \n",
       "1                                 90.45606                               9   \n",
       "2                                 512.5487                               4   \n",
       "3                                 186.9686                               6   \n",
       "4                                 204.1705                               8   \n",
       "..                                     ...                             ...   \n",
       "409                               90.45606                               9   \n",
       "410                               750.0704                               2   \n",
       "411                               1414.837                               1   \n",
       "412                               492.2313                               5   \n",
       "413                               757.3377                               3   \n",
       "\n",
       "    X5 latitude X6 longitude Y house price of unit area  \n",
       "0      24.97697    121.54262                         42  \n",
       "1      24.97433     121.5431                       56.3  \n",
       "2        24.974    121.53842                       42.5  \n",
       "3      24.96604    121.54211                       42.2  \n",
       "4      24.98236    121.53923                       48.2  \n",
       "..          ...          ...                        ...  \n",
       "409    24.97433     121.5431                       58.1  \n",
       "410    24.97371    121.54951                       37.8  \n",
       "411    24.95182    121.54887                       26.5  \n",
       "412    24.96515    121.53737                       43.8  \n",
       "413    24.97538    121.54971                       36.7  \n",
       "\n",
       "[414 rows x 8 columns]"
      ]
     },
     "execution_count": 2,
     "metadata": {},
     "output_type": "execute_result"
    }
   ],
   "source": [
    "%%marklogic_sjs -dataframe\n",
    "\n",
    "fn.collection(\"sample-data\");"
   ]
  },
  {
   "cell_type": "markdown",
   "metadata": {},
   "source": [
    "The sample data are real estate price predictions downloaded from [Kaggle](https://www.kaggle.com/quantbruce/real-estate-price-prediction).  Conceptually, we would use MarkLogic as a data hub/data integration platform, wherein data would be cleaned, enriched, and perhaps even mastered, making it a good source for training datasets.\n",
    "\n",
    "We'll use the data to create a model for predicting house prices.  For now, we'll run some more server-side Javascript to cherry-pick and format the data we need."
   ]
  },
  {
   "cell_type": "code",
   "execution_count": 3,
   "metadata": {},
   "outputs": [
    {
     "data": {
      "text/html": [
       "<div>\n",
       "<style scoped>\n",
       "    .dataframe tbody tr th:only-of-type {\n",
       "        vertical-align: middle;\n",
       "    }\n",
       "\n",
       "    .dataframe tbody tr th {\n",
       "        vertical-align: top;\n",
       "    }\n",
       "\n",
       "    .dataframe thead th {\n",
       "        text-align: right;\n",
       "    }\n",
       "</style>\n",
       "<table border=\"1\" class=\"dataframe\">\n",
       "  <thead>\n",
       "    <tr style=\"text-align: right;\">\n",
       "      <th></th>\n",
       "      <th>x1</th>\n",
       "      <th>x2</th>\n",
       "      <th>x3</th>\n",
       "      <th>x4</th>\n",
       "      <th>y</th>\n",
       "    </tr>\n",
       "  </thead>\n",
       "  <tbody>\n",
       "    <tr>\n",
       "      <th>0</th>\n",
       "      <td>2013.083</td>\n",
       "      <td>33</td>\n",
       "      <td>181.0766</td>\n",
       "      <td>9</td>\n",
       "      <td>42</td>\n",
       "    </tr>\n",
       "    <tr>\n",
       "      <th>1</th>\n",
       "      <td>2012.917</td>\n",
       "      <td>5.9</td>\n",
       "      <td>90.45606</td>\n",
       "      <td>9</td>\n",
       "      <td>56.3</td>\n",
       "    </tr>\n",
       "    <tr>\n",
       "      <th>2</th>\n",
       "      <td>2012.917</td>\n",
       "      <td>21.2</td>\n",
       "      <td>512.5487</td>\n",
       "      <td>4</td>\n",
       "      <td>42.5</td>\n",
       "    </tr>\n",
       "    <tr>\n",
       "      <th>3</th>\n",
       "      <td>2012.667</td>\n",
       "      <td>33.4</td>\n",
       "      <td>186.9686</td>\n",
       "      <td>6</td>\n",
       "      <td>42.2</td>\n",
       "    </tr>\n",
       "    <tr>\n",
       "      <th>4</th>\n",
       "      <td>2013.417</td>\n",
       "      <td>32.8</td>\n",
       "      <td>204.1705</td>\n",
       "      <td>8</td>\n",
       "      <td>48.2</td>\n",
       "    </tr>\n",
       "    <tr>\n",
       "      <th>...</th>\n",
       "      <td>...</td>\n",
       "      <td>...</td>\n",
       "      <td>...</td>\n",
       "      <td>...</td>\n",
       "      <td>...</td>\n",
       "    </tr>\n",
       "    <tr>\n",
       "      <th>409</th>\n",
       "      <td>2013.333</td>\n",
       "      <td>6.3</td>\n",
       "      <td>90.45606</td>\n",
       "      <td>9</td>\n",
       "      <td>58.1</td>\n",
       "    </tr>\n",
       "    <tr>\n",
       "      <th>410</th>\n",
       "      <td>2013.167</td>\n",
       "      <td>13.2</td>\n",
       "      <td>750.0704</td>\n",
       "      <td>2</td>\n",
       "      <td>37.8</td>\n",
       "    </tr>\n",
       "    <tr>\n",
       "      <th>411</th>\n",
       "      <td>2013.000</td>\n",
       "      <td>18</td>\n",
       "      <td>1414.837</td>\n",
       "      <td>1</td>\n",
       "      <td>26.5</td>\n",
       "    </tr>\n",
       "    <tr>\n",
       "      <th>412</th>\n",
       "      <td>2013.417</td>\n",
       "      <td>13.6</td>\n",
       "      <td>492.2313</td>\n",
       "      <td>5</td>\n",
       "      <td>43.8</td>\n",
       "    </tr>\n",
       "    <tr>\n",
       "      <th>413</th>\n",
       "      <td>2013.417</td>\n",
       "      <td>3.5</td>\n",
       "      <td>757.3377</td>\n",
       "      <td>3</td>\n",
       "      <td>36.7</td>\n",
       "    </tr>\n",
       "  </tbody>\n",
       "</table>\n",
       "<p>414 rows × 5 columns</p>\n",
       "</div>"
      ],
      "text/plain": [
       "           x1    x2        x3 x4     y\n",
       "0    2013.083    33  181.0766  9    42\n",
       "1    2012.917   5.9  90.45606  9  56.3\n",
       "2    2012.917  21.2  512.5487  4  42.5\n",
       "3    2012.667  33.4  186.9686  6  42.2\n",
       "4    2013.417  32.8  204.1705  8  48.2\n",
       "..        ...   ...       ... ..   ...\n",
       "409  2013.333   6.3  90.45606  9  58.1\n",
       "410  2013.167  13.2  750.0704  2  37.8\n",
       "411  2013.000    18  1414.837  1  26.5\n",
       "412  2013.417  13.6  492.2313  5  43.8\n",
       "413  2013.417   3.5  757.3377  3  36.7\n",
       "\n",
       "[414 rows x 5 columns]"
      ]
     },
     "execution_count": 3,
     "metadata": {},
     "output_type": "execute_result"
    }
   ],
   "source": [
    "%%marklogic_sjs -dataframe\n",
    "\n",
    "fn.collection(\"sample-data\").toArray().map(doc => {\n",
    "    const r = doc.toObject();\n",
    "    return {\n",
    "        x1: r[\"X1 transaction date\"],\n",
    "        x2: r[\"X2 house age\"],\n",
    "        x3: r[\"X3 distance to the nearest MRT station\"],\n",
    "        x4: r[\"X4 number of convenience stores\"],\n",
    "        y: r[\"Y house price of unit area\"]\n",
    "    };\n",
    "});"
   ]
  },
  {
   "cell_type": "markdown",
   "metadata": {},
   "source": [
    "Now we have enough to create some training and test data.  In IPython/Jupyter, you can use _underscore_ to get the output of the previous cell, which in this case is a DataFrame constructed from an array of JSON objects."
   ]
  },
  {
   "cell_type": "code",
   "execution_count": 4,
   "metadata": {},
   "outputs": [
    {
     "name": "stdout",
     "output_type": "stream",
     "text": [
      "Samples for training: 414\n",
      "Samples for testing: 83\n"
     ]
    }
   ],
   "source": [
    "from sklearn.model_selection import train_test_split\n",
    "\n",
    "y = _[\"y\"]\n",
    "x = _.drop(\"y\", axis = 1)\n",
    "\n",
    "# split the data into training and test\n",
    "x_train, x_test, y_train, y_test = train_test_split(x, y, test_size = 0.2, random_state = 42)\n",
    "\n",
    "print('Samples for training: ' + str(len(x)))\n",
    "print('Samples for testing: ' + str(len(x_test)))"
   ]
  },
  {
   "cell_type": "markdown",
   "metadata": {},
   "source": [
    "We then create and train a linear regression model.  There are many Python libraries for machine learning; in this instance we'll use the *sklearn* Python module.  "
   ]
  },
  {
   "cell_type": "code",
   "execution_count": 5,
   "metadata": {},
   "outputs": [
    {
     "name": "stdout",
     "output_type": "stream",
     "text": [
      "Intercept:  38.15256797583054\n",
      "Coefficients:  [ 1.73690609 -2.9224841  -6.94223375  4.05634873]\n"
     ]
    }
   ],
   "source": [
    "from sklearn.preprocessing import StandardScaler\n",
    "from sklearn.linear_model import LinearRegression\n",
    "from sklearn.pipeline import Pipeline\n",
    "\n",
    "# create a pipeline to normalize the inputs then calculate estimate\n",
    "scaler = StandardScaler()\n",
    "model = LinearRegression()\n",
    "\n",
    "pl = Pipeline(steps = [\n",
    "    ('scaler', scaler),\n",
    "    ('estimator', model)\n",
    "])\n",
    "\n",
    "# train\n",
    "pl.fit(x_train, y_train)\n",
    "\n",
    "print('Intercept: ', model.intercept_)\n",
    "print('Coefficients: ', model.coef_)"
   ]
  },
  {
   "cell_type": "code",
   "execution_count": 6,
   "metadata": {},
   "outputs": [
    {
     "name": "stdout",
     "output_type": "stream",
     "text": [
      "Score: 0.48442752994554283\n"
     ]
    },
    {
     "data": {
      "image/png": "[encoded data removed]",
      "text/plain": [
       "<Figure size 432x288 with 1 Axes>"
      ]
     },
     "metadata": {
      "needs_background": "light"
     },
     "output_type": "display_data"
    }
   ],
   "source": [
    "import matplotlib.pyplot as plt  \n",
    "\n",
    "# run the model against the scaled test data\n",
    "predicted_y = pl.predict(x_test)\n",
    "\n",
    "# get the R2 score\n",
    "score = pl.score(x_test, y_test)\n",
    "print('Score: ' + str(score))\n",
    "\n",
    "plt.scatter(y_test, predicted_y)\n",
    "plt.xlabel('True values')\n",
    "plt.ylabel('Predictions')\n",
    "plt.show()"
   ]
  },
  {
   "cell_type": "markdown",
   "metadata": {},
   "source": [
    "MarkLogic has the ability to execute ONNX models.  We can export our model to ONNX so we can execute it server-side, perhaps as part of a enrichment process or data hub step."
   ]
  },
  {
   "cell_type": "code",
   "execution_count": 7,
   "metadata": {},
   "outputs": [],
   "source": [
    "from skl2onnx import convert_sklearn\n",
    "from skl2onnx.common.data_types import FloatTensorType\n",
    "\n",
    "inputs = [\n",
    "    ('x1', FloatTensorType([None, 1])),\n",
    "    ('x2', FloatTensorType([None, 1])),\n",
    "    ('x3', FloatTensorType([None, 1])),\n",
    "    ('x4', FloatTensorType([None, 1]))\n",
    "]\n",
    "onnx = convert_sklearn(pl, 'pipeline', inputs)"
   ]
  },
  {
   "cell_type": "markdown",
   "metadata": {},
   "source": [
    "We can then insert the ONNX model into MarkLogic as a binary document.  `%marklogic_doc_insert` lets you insert a document given a Python dict containing the document's `uri` and `content`.  The content can be a string or bytes (in this case, bytes).  We can optionally specify the `format` (can be `xml`, `json`, or `binary`) to explicitly specify the mime-type."
   ]
  },
  {
   "cell_type": "code",
   "execution_count": 8,
   "metadata": {},
   "outputs": [
    {
     "name": "stdout",
     "output_type": "stream",
     "text": [
      "204 Content Updated /models/example.onnx\n"
     ]
    }
   ],
   "source": [
    "insert_model = {\n",
    "    \"uri\": \"/models/example.onnx\",\n",
    "    \"format\": \"binary\",\n",
    "    \"content\": onnx.SerializeToString()\n",
    "}\n",
    "%marklogic_doc_insert insert_model"
   ]
  },
  {
   "cell_type": "markdown",
   "metadata": {},
   "source": [
    "Now we can test the ONNX model out by running it server-side."
   ]
  },
  {
   "cell_type": "code",
   "execution_count": 9,
   "metadata": {},
   "outputs": [
    {
     "data": {
      "text/plain": [
       "45.3390922546387"
      ]
     },
     "execution_count": 9,
     "metadata": {},
     "output_type": "execute_result"
    }
   ],
   "source": [
    "%%marklogic_sjs\n",
    "\n",
    "const inputs = {\n",
    "    x1: ort.value([2013.083], [1, 1], \"FLOAT\"),\n",
    "    x2: ort.value([33], [1, 1], \"FLOAT\"),\n",
    "    x3: ort.value([181.0766], [1, 1], \"FLOAT\"),\n",
    "    x4: ort.value([9], [1, 1], \"FLOAT\")\n",
    "};\n",
    "const session = ort.session(cts.doc(\"/models/example.onnx\"));\n",
    "const outputs = ort.run(session, inputs);\n",
    "const outputValue = ort.valueGetArray(outputs[ort.sessionOutputName(session, 0)])[0];\n",
    "\n",
    "outputValue;"
   ]
  },
  {
   "cell_type": "code",
   "execution_count": null,
   "metadata": {},
   "outputs": [],
   "source": []
  }
 ],
 "metadata": {
  "kernelspec": {
   "display_name": "Python 3",
   "language": "python",
   "name": "python3"
  },
  "language_info": {
   "codemirror_mode": {
    "name": "ipython",
    "version": 3
   },
   "file_extension": ".py",
   "mimetype": "text/x-python",
   "name": "python",
   "nbconvert_exporter": "python",
   "pygments_lexer": "ipython3",
   "version": "3.7.6"
  }
 },
 "nbformat": 4,
 "nbformat_minor": 4
}
